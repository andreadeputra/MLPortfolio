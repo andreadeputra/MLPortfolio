{
 "cells": [
  {
   "attachments": {},
   "cell_type": "markdown",
   "metadata": {},
   "source": [
    "# Improving Employee Retention by Predicting Employee Attrition Using Machine Learning"
   ]
  },
  {
   "cell_type": "code",
   "execution_count": 1,
   "metadata": {},
   "outputs": [],
   "source": [
    "import numpy as np\n",
    "import pandas as pd\n",
    "import seaborn as sns\n",
    "import waterfall_chart as wfall\n",
    "\n",
    "from matplotlib import pyplot as plt\n",
    "from matplotlib import rcParams\n",
    "\n",
    "pd.options.display.max_columns = None\n",
    "\n",
    "custom_rc = {'figure.figsize': (12,8),\n",
    "             'axes.labelsize': 14,\n",
    "             'figure.titlesize': 18}\n",
    "rcParams.update(custom_rc)"
   ]
  },
  {
   "cell_type": "code",
   "execution_count": 2,
   "metadata": {},
   "outputs": [],
   "source": [
    "plt.style.use('ggplot')"
   ]
  },
  {
   "attachments": {},
   "cell_type": "markdown",
   "metadata": {},
   "source": [
    "## About This Dataset"
   ]
  },
  {
   "cell_type": "markdown",
   "metadata": {},
   "source": [
    "[This](https://docs.google.com/spreadsheets/d/1EQlE-TUc06O1-HBRP-siI3ZV_4g48-68/edit?rtpof=true) dataset is provided by Rakamin Academy. Based on quick google search, this dataset is adapted from [Human Resource Data Set](https://www.kaggle.com/datasets/rhuebner/human-resources-data-set?select=HRDataset_v14.csv) on Kaggle complying to their license. Other than the columns' names being translated, there are some columns added and some being removed.\n",
    "\n",
    "In this project, a company dealing with high attrition rate needs to take a data-driven decision. For that, I'm tasked to help solve that problem starting from making inferential analysis to making machine learning model to make recommendations."
   ]
  },
  {
   "cell_type": "code",
   "execution_count": 3,
   "metadata": {},
   "outputs": [
    {
     "data": {
      "text/html": [
       "<div>\n",
       "<style scoped>\n",
       "    .dataframe tbody tr th:only-of-type {\n",
       "        vertical-align: middle;\n",
       "    }\n",
       "\n",
       "    .dataframe tbody tr th {\n",
       "        vertical-align: top;\n",
       "    }\n",
       "\n",
       "    .dataframe thead th {\n",
       "        text-align: right;\n",
       "    }\n",
       "</style>\n",
       "<table border=\"1\" class=\"dataframe\">\n",
       "  <thead>\n",
       "    <tr style=\"text-align: right;\">\n",
       "      <th></th>\n",
       "      <th>Username</th>\n",
       "      <th>EnterpriseID</th>\n",
       "      <th>StatusPernikahan</th>\n",
       "      <th>JenisKelamin</th>\n",
       "      <th>StatusKepegawaian</th>\n",
       "      <th>Pekerjaan</th>\n",
       "      <th>JenjangKarir</th>\n",
       "      <th>PerformancePegawai</th>\n",
       "      <th>AsalDaerah</th>\n",
       "      <th>HiringPlatform</th>\n",
       "      <th>SkorSurveyEngagement</th>\n",
       "      <th>SkorKepuasanPegawai</th>\n",
       "      <th>JumlahKeikutsertaanProjek</th>\n",
       "      <th>JumlahKeterlambatanSebulanTerakhir</th>\n",
       "      <th>JumlahKetidakhadiran</th>\n",
       "      <th>NomorHP</th>\n",
       "      <th>Email</th>\n",
       "      <th>TingkatPendidikan</th>\n",
       "      <th>PernahBekerja</th>\n",
       "      <th>IkutProgramLOP</th>\n",
       "      <th>AlasanResign</th>\n",
       "      <th>TanggalLahir</th>\n",
       "      <th>TanggalHiring</th>\n",
       "      <th>TanggalPenilaianKaryawan</th>\n",
       "      <th>TanggalResign</th>\n",
       "    </tr>\n",
       "  </thead>\n",
       "  <tbody>\n",
       "    <tr>\n",
       "      <th>0</th>\n",
       "      <td>spiritedPorpoise3</td>\n",
       "      <td>111065</td>\n",
       "      <td>Belum_menikah</td>\n",
       "      <td>Pria</td>\n",
       "      <td>Outsource</td>\n",
       "      <td>Software Engineer (Back End)</td>\n",
       "      <td>Freshgraduate_program</td>\n",
       "      <td>Sangat_bagus</td>\n",
       "      <td>Jakarta Timur</td>\n",
       "      <td>Employee_Referral</td>\n",
       "      <td>4</td>\n",
       "      <td>4.0</td>\n",
       "      <td>0.0</td>\n",
       "      <td>0.0</td>\n",
       "      <td>9.0</td>\n",
       "      <td>+6282232522xxx</td>\n",
       "      <td>spiritedPorpoise3135@yahoo.com</td>\n",
       "      <td>Magister</td>\n",
       "      <td>1</td>\n",
       "      <td>1.0</td>\n",
       "      <td>masih_bekerja</td>\n",
       "      <td>1972-07-01</td>\n",
       "      <td>2011-01-10</td>\n",
       "      <td>2016-2-15</td>\n",
       "      <td>-</td>\n",
       "    </tr>\n",
       "    <tr>\n",
       "      <th>1</th>\n",
       "      <td>jealousGelding2</td>\n",
       "      <td>106080</td>\n",
       "      <td>Belum_menikah</td>\n",
       "      <td>Pria</td>\n",
       "      <td>FullTime</td>\n",
       "      <td>Data Analyst</td>\n",
       "      <td>Freshgraduate_program</td>\n",
       "      <td>Sangat_kurang</td>\n",
       "      <td>Jakarta Utara</td>\n",
       "      <td>Website</td>\n",
       "      <td>4</td>\n",
       "      <td>4.0</td>\n",
       "      <td>4.0</td>\n",
       "      <td>0.0</td>\n",
       "      <td>3.0</td>\n",
       "      <td>+6281270745xxx</td>\n",
       "      <td>jealousGelding2239@yahoo.com</td>\n",
       "      <td>Sarjana</td>\n",
       "      <td>1</td>\n",
       "      <td>1.0</td>\n",
       "      <td>toxic_culture</td>\n",
       "      <td>1984-04-26</td>\n",
       "      <td>2014-01-06</td>\n",
       "      <td>2020-1-17</td>\n",
       "      <td>2018-6-16</td>\n",
       "    </tr>\n",
       "    <tr>\n",
       "      <th>2</th>\n",
       "      <td>pluckyMuesli3</td>\n",
       "      <td>106452</td>\n",
       "      <td>Menikah</td>\n",
       "      <td>Pria</td>\n",
       "      <td>FullTime</td>\n",
       "      <td>Software Engineer (Front End)</td>\n",
       "      <td>Freshgraduate_program</td>\n",
       "      <td>Bagus</td>\n",
       "      <td>Jakarta Timur</td>\n",
       "      <td>Indeed</td>\n",
       "      <td>4</td>\n",
       "      <td>3.0</td>\n",
       "      <td>0.0</td>\n",
       "      <td>0.0</td>\n",
       "      <td>11.0</td>\n",
       "      <td>+6281346215xxx</td>\n",
       "      <td>pluckyMuesli3961@icloud.com</td>\n",
       "      <td>Magister</td>\n",
       "      <td>1</td>\n",
       "      <td>1.0</td>\n",
       "      <td>jam_kerja</td>\n",
       "      <td>1974-01-07</td>\n",
       "      <td>2011-01-10</td>\n",
       "      <td>2016-01-10</td>\n",
       "      <td>2014-9-24</td>\n",
       "    </tr>\n",
       "    <tr>\n",
       "      <th>3</th>\n",
       "      <td>stressedTruffle1</td>\n",
       "      <td>106325</td>\n",
       "      <td>Belum_menikah</td>\n",
       "      <td>Pria</td>\n",
       "      <td>Outsource</td>\n",
       "      <td>Software Engineer (Front End)</td>\n",
       "      <td>Freshgraduate_program</td>\n",
       "      <td>Bagus</td>\n",
       "      <td>Jakarta Pusat</td>\n",
       "      <td>LinkedIn</td>\n",
       "      <td>3</td>\n",
       "      <td>3.0</td>\n",
       "      <td>0.0</td>\n",
       "      <td>4.0</td>\n",
       "      <td>6.0</td>\n",
       "      <td>+6283233846xxx</td>\n",
       "      <td>stressedTruffle1406@hotmail.com</td>\n",
       "      <td>Sarjana</td>\n",
       "      <td>1</td>\n",
       "      <td>0.0</td>\n",
       "      <td>masih_bekerja</td>\n",
       "      <td>1979-11-24</td>\n",
       "      <td>2014-2-17</td>\n",
       "      <td>2020-02-04</td>\n",
       "      <td>-</td>\n",
       "    </tr>\n",
       "    <tr>\n",
       "      <th>4</th>\n",
       "      <td>shyTermite7</td>\n",
       "      <td>111171</td>\n",
       "      <td>Belum_menikah</td>\n",
       "      <td>Wanita</td>\n",
       "      <td>FullTime</td>\n",
       "      <td>Product Manager</td>\n",
       "      <td>Freshgraduate_program</td>\n",
       "      <td>Bagus</td>\n",
       "      <td>Jakarta Timur</td>\n",
       "      <td>LinkedIn</td>\n",
       "      <td>3</td>\n",
       "      <td>3.0</td>\n",
       "      <td>0.0</td>\n",
       "      <td>0.0</td>\n",
       "      <td>11.0</td>\n",
       "      <td>+6287883263xxx</td>\n",
       "      <td>shyTermite7149@gmail.com</td>\n",
       "      <td>Sarjana</td>\n",
       "      <td>1</td>\n",
       "      <td>0.0</td>\n",
       "      <td>ganti_karir</td>\n",
       "      <td>1974-11-07</td>\n",
       "      <td>2013-11-11</td>\n",
       "      <td>2020-1-22</td>\n",
       "      <td>2018-09-06</td>\n",
       "    </tr>\n",
       "  </tbody>\n",
       "</table>\n",
       "</div>"
      ],
      "text/plain": [
       "            Username  EnterpriseID StatusPernikahan JenisKelamin  \\\n",
       "0  spiritedPorpoise3        111065    Belum_menikah         Pria   \n",
       "1    jealousGelding2        106080    Belum_menikah         Pria   \n",
       "2      pluckyMuesli3        106452          Menikah         Pria   \n",
       "3   stressedTruffle1        106325    Belum_menikah         Pria   \n",
       "4        shyTermite7        111171    Belum_menikah       Wanita   \n",
       "\n",
       "  StatusKepegawaian                      Pekerjaan           JenjangKarir  \\\n",
       "0         Outsource   Software Engineer (Back End)  Freshgraduate_program   \n",
       "1          FullTime                   Data Analyst  Freshgraduate_program   \n",
       "2          FullTime  Software Engineer (Front End)  Freshgraduate_program   \n",
       "3         Outsource  Software Engineer (Front End)  Freshgraduate_program   \n",
       "4          FullTime                Product Manager  Freshgraduate_program   \n",
       "\n",
       "  PerformancePegawai     AsalDaerah     HiringPlatform  SkorSurveyEngagement  \\\n",
       "0       Sangat_bagus  Jakarta Timur  Employee_Referral                     4   \n",
       "1      Sangat_kurang  Jakarta Utara            Website                     4   \n",
       "2              Bagus  Jakarta Timur             Indeed                     4   \n",
       "3              Bagus  Jakarta Pusat           LinkedIn                     3   \n",
       "4              Bagus  Jakarta Timur           LinkedIn                     3   \n",
       "\n",
       "   SkorKepuasanPegawai  JumlahKeikutsertaanProjek  \\\n",
       "0                  4.0                        0.0   \n",
       "1                  4.0                        4.0   \n",
       "2                  3.0                        0.0   \n",
       "3                  3.0                        0.0   \n",
       "4                  3.0                        0.0   \n",
       "\n",
       "   JumlahKeterlambatanSebulanTerakhir  JumlahKetidakhadiran         NomorHP  \\\n",
       "0                                 0.0                   9.0  +6282232522xxx   \n",
       "1                                 0.0                   3.0  +6281270745xxx   \n",
       "2                                 0.0                  11.0  +6281346215xxx   \n",
       "3                                 4.0                   6.0  +6283233846xxx   \n",
       "4                                 0.0                  11.0  +6287883263xxx   \n",
       "\n",
       "                             Email TingkatPendidikan PernahBekerja  \\\n",
       "0   spiritedPorpoise3135@yahoo.com          Magister             1   \n",
       "1     jealousGelding2239@yahoo.com           Sarjana             1   \n",
       "2      pluckyMuesli3961@icloud.com          Magister             1   \n",
       "3  stressedTruffle1406@hotmail.com           Sarjana             1   \n",
       "4         shyTermite7149@gmail.com           Sarjana             1   \n",
       "\n",
       "   IkutProgramLOP   AlasanResign TanggalLahir TanggalHiring  \\\n",
       "0             1.0  masih_bekerja   1972-07-01    2011-01-10   \n",
       "1             1.0  toxic_culture   1984-04-26    2014-01-06   \n",
       "2             1.0      jam_kerja   1974-01-07    2011-01-10   \n",
       "3             0.0  masih_bekerja   1979-11-24     2014-2-17   \n",
       "4             0.0    ganti_karir   1974-11-07    2013-11-11   \n",
       "\n",
       "  TanggalPenilaianKaryawan TanggalResign  \n",
       "0                2016-2-15             -  \n",
       "1                2020-1-17     2018-6-16  \n",
       "2               2016-01-10     2014-9-24  \n",
       "3               2020-02-04             -  \n",
       "4                2020-1-22    2018-09-06  "
      ]
     },
     "execution_count": 3,
     "metadata": {},
     "output_type": "execute_result"
    }
   ],
   "source": [
    "filepath = \"Improving Employee Retention by Predicting Employee Attrition Using Machine Learning.csv\"\n",
    "df_raw = pd.read_csv(filepath)\n",
    "df = df_raw.copy()\n",
    "df.head()"
   ]
  },
  {
   "cell_type": "markdown",
   "metadata": {},
   "source": [
    "## Data Overview"
   ]
  },
  {
   "cell_type": "code",
   "execution_count": 4,
   "metadata": {},
   "outputs": [
    {
     "name": "stdout",
     "output_type": "stream",
     "text": [
      "<class 'pandas.core.frame.DataFrame'>\n",
      "RangeIndex: 287 entries, 0 to 286\n",
      "Data columns (total 25 columns):\n",
      " #   Column                              Non-Null Count  Dtype  \n",
      "---  ------                              --------------  -----  \n",
      " 0   Username                            287 non-null    object \n",
      " 1   EnterpriseID                        287 non-null    int64  \n",
      " 2   StatusPernikahan                    287 non-null    object \n",
      " 3   JenisKelamin                        287 non-null    object \n",
      " 4   StatusKepegawaian                   287 non-null    object \n",
      " 5   Pekerjaan                           287 non-null    object \n",
      " 6   JenjangKarir                        287 non-null    object \n",
      " 7   PerformancePegawai                  287 non-null    object \n",
      " 8   AsalDaerah                          287 non-null    object \n",
      " 9   HiringPlatform                      287 non-null    object \n",
      " 10  SkorSurveyEngagement                287 non-null    int64  \n",
      " 11  SkorKepuasanPegawai                 282 non-null    float64\n",
      " 12  JumlahKeikutsertaanProjek           284 non-null    float64\n",
      " 13  JumlahKeterlambatanSebulanTerakhir  286 non-null    float64\n",
      " 14  JumlahKetidakhadiran                281 non-null    float64\n",
      " 15  NomorHP                             287 non-null    object \n",
      " 16  Email                               287 non-null    object \n",
      " 17  TingkatPendidikan                   287 non-null    object \n",
      " 18  PernahBekerja                       287 non-null    object \n",
      " 19  IkutProgramLOP                      29 non-null     float64\n",
      " 20  AlasanResign                        221 non-null    object \n",
      " 21  TanggalLahir                        287 non-null    object \n",
      " 22  TanggalHiring                       287 non-null    object \n",
      " 23  TanggalPenilaianKaryawan            287 non-null    object \n",
      " 24  TanggalResign                       287 non-null    object \n",
      "dtypes: float64(5), int64(2), object(18)\n",
      "memory usage: 56.2+ KB\n"
     ]
    }
   ],
   "source": [
    "df.info()"
   ]
  },
  {
   "attachments": {},
   "cell_type": "markdown",
   "metadata": {},
   "source": [
    "Most of the features in the dataset are self explanatory, however I will still cross-reference with the source dataset description. The columns' descriptions are as follows:\n",
    "- **Username**: Employee's username\n",
    "- **EnterpriseID**: Employee's unique id\n",
    "- **StatusPernikahan**: Employee's marital status\n",
    "- **JenisKelamin**: Employee's gender\n",
    "- **StatusKepegawaian**: Employee's employment status\n",
    "- **Pekerjaan**: Employee's job position\n",
    "- **JenjangKarir**: Which career progression the employee is in\n",
    "- **PerformancePegawai**: Employee's performance score notated in 5 ordinal scores\n",
    "- **AsalDaerah**: Employee's city of origin\n",
    "- **HiringPlatform**: What platform was used to hire the employee\n",
    "- **SkorSurveyEngagement**: Employee's engagement towards company on scale 1-5\n",
    "- **SkorKepuasanPegawai**: Employee's satisfaction towards company on scale 1-5\n",
    "- **JumlahKeikutsertaanProjek**: Number of times the employee participated in projects\n",
    "- **JumlahKeterlambatanSebulanTerakhir**: Employee's tardiness in the last 1 month\n",
    "- **JumlahKetidakhadiran**: Number of times the employee is absent\n",
    "- **NomorHP**: Employee's phone number\n",
    "- **Email**: Employee's email address\n",
    "- **TingkatPendidikan**: Employee's last education level\n",
    "- **PernahBekerja**: Denotes whether the employee has worked previously or not\n",
    "- **IkutProgramLOP**: Denotes whether the employee has joined *Laptop Ownership Program* or not\n",
    "- **AlasanResign**: Employee's reason for resigning if they do resign\n",
    "- **TanggalLahir**: Employee's date of birth\n",
    "- **TanggalHiring**: Employee's date of hiring\n",
    "- **TanggalPenilaianKaryawan**: Employee's date of last performance review\n",
    "- **TanggalResign**: Employee's date of resignation"
   ]
  },
  {
   "cell_type": "markdown",
   "metadata": {},
   "source": [
    "## EDA\n",
    "I will start with some quick Analysis to understand the dataset better. Let's separate the columns into groups based on their types of data."
   ]
  },
  {
   "cell_type": "code",
   "execution_count": 5,
   "metadata": {},
   "outputs": [],
   "source": [
    "identifier = ['Username', 'EnterpriseID', 'NomorHP', 'Email']\n",
    "date_col = ['TanggalLahir', 'TanggalHiring', 'TanggalPenilaianKaryawan', 'TanggalResign']\n",
    "nums = ['JumlahKeikutsertaanProjek', 'JumlahKeterlambatanSebulanTerakhir', 'JumlahKetidakhadiran']\n",
    "cats = df.drop(identifier + date_col + nums, axis=1).columns"
   ]
  },
  {
   "cell_type": "markdown",
   "metadata": {},
   "source": [
    "### Descriptive Analysis"
   ]
  },
  {
   "cell_type": "code",
   "execution_count": 6,
   "metadata": {},
   "outputs": [
    {
     "data": {
      "text/html": [
       "<div>\n",
       "<style scoped>\n",
       "    .dataframe tbody tr th:only-of-type {\n",
       "        vertical-align: middle;\n",
       "    }\n",
       "\n",
       "    .dataframe tbody tr th {\n",
       "        vertical-align: top;\n",
       "    }\n",
       "\n",
       "    .dataframe thead th {\n",
       "        text-align: right;\n",
       "    }\n",
       "</style>\n",
       "<table border=\"1\" class=\"dataframe\">\n",
       "  <thead>\n",
       "    <tr style=\"text-align: right;\">\n",
       "      <th></th>\n",
       "      <th>count</th>\n",
       "      <th>unique</th>\n",
       "      <th>top</th>\n",
       "      <th>freq</th>\n",
       "    </tr>\n",
       "  </thead>\n",
       "  <tbody>\n",
       "    <tr>\n",
       "      <th>Username</th>\n",
       "      <td>287</td>\n",
       "      <td>285</td>\n",
       "      <td>boredEggs0</td>\n",
       "      <td>2</td>\n",
       "    </tr>\n",
       "    <tr>\n",
       "      <th>EnterpriseID</th>\n",
       "      <td>287</td>\n",
       "      <td>287</td>\n",
       "      <td>111065</td>\n",
       "      <td>1</td>\n",
       "    </tr>\n",
       "    <tr>\n",
       "      <th>NomorHP</th>\n",
       "      <td>287</td>\n",
       "      <td>287</td>\n",
       "      <td>+6282232522xxx</td>\n",
       "      <td>1</td>\n",
       "    </tr>\n",
       "    <tr>\n",
       "      <th>Email</th>\n",
       "      <td>287</td>\n",
       "      <td>287</td>\n",
       "      <td>spiritedPorpoise3135@yahoo.com</td>\n",
       "      <td>1</td>\n",
       "    </tr>\n",
       "  </tbody>\n",
       "</table>\n",
       "</div>"
      ],
      "text/plain": [
       "             count unique                             top freq\n",
       "Username       287    285                      boredEggs0    2\n",
       "EnterpriseID   287    287                          111065    1\n",
       "NomorHP        287    287                  +6282232522xxx    1\n",
       "Email          287    287  spiritedPorpoise3135@yahoo.com    1"
      ]
     },
     "execution_count": 6,
     "metadata": {},
     "output_type": "execute_result"
    }
   ],
   "source": [
    "df[identifier].astype('object').describe().T"
   ]
  },
  {
   "cell_type": "markdown",
   "metadata": {},
   "source": [
    "For some reason, there is duplicated **Username** found. However, everything else are unique as expected, which means there is no need to check for duplicated rows in this dataset."
   ]
  },
  {
   "cell_type": "code",
   "execution_count": 7,
   "metadata": {},
   "outputs": [
    {
     "data": {
      "text/html": [
       "<div>\n",
       "<style scoped>\n",
       "    .dataframe tbody tr th:only-of-type {\n",
       "        vertical-align: middle;\n",
       "    }\n",
       "\n",
       "    .dataframe tbody tr th {\n",
       "        vertical-align: top;\n",
       "    }\n",
       "\n",
       "    .dataframe thead th {\n",
       "        text-align: right;\n",
       "    }\n",
       "</style>\n",
       "<table border=\"1\" class=\"dataframe\">\n",
       "  <thead>\n",
       "    <tr style=\"text-align: right;\">\n",
       "      <th></th>\n",
       "      <th>count</th>\n",
       "      <th>mean</th>\n",
       "      <th>std</th>\n",
       "      <th>min</th>\n",
       "      <th>25%</th>\n",
       "      <th>50%</th>\n",
       "      <th>75%</th>\n",
       "      <th>max</th>\n",
       "    </tr>\n",
       "  </thead>\n",
       "  <tbody>\n",
       "    <tr>\n",
       "      <th>JumlahKeikutsertaanProjek</th>\n",
       "      <td>284.0</td>\n",
       "      <td>1.179577</td>\n",
       "      <td>2.294441</td>\n",
       "      <td>0.0</td>\n",
       "      <td>0.0</td>\n",
       "      <td>0.0</td>\n",
       "      <td>0.0</td>\n",
       "      <td>8.0</td>\n",
       "    </tr>\n",
       "    <tr>\n",
       "      <th>JumlahKeterlambatanSebulanTerakhir</th>\n",
       "      <td>286.0</td>\n",
       "      <td>0.412587</td>\n",
       "      <td>1.275016</td>\n",
       "      <td>0.0</td>\n",
       "      <td>0.0</td>\n",
       "      <td>0.0</td>\n",
       "      <td>0.0</td>\n",
       "      <td>6.0</td>\n",
       "    </tr>\n",
       "    <tr>\n",
       "      <th>JumlahKetidakhadiran</th>\n",
       "      <td>281.0</td>\n",
       "      <td>10.448399</td>\n",
       "      <td>6.902252</td>\n",
       "      <td>1.0</td>\n",
       "      <td>5.0</td>\n",
       "      <td>10.0</td>\n",
       "      <td>15.0</td>\n",
       "      <td>55.0</td>\n",
       "    </tr>\n",
       "  </tbody>\n",
       "</table>\n",
       "</div>"
      ],
      "text/plain": [
       "                                    count       mean       std  min  25%  \\\n",
       "JumlahKeikutsertaanProjek           284.0   1.179577  2.294441  0.0  0.0   \n",
       "JumlahKeterlambatanSebulanTerakhir  286.0   0.412587  1.275016  0.0  0.0   \n",
       "JumlahKetidakhadiran                281.0  10.448399  6.902252  1.0  5.0   \n",
       "\n",
       "                                     50%   75%   max  \n",
       "JumlahKeikutsertaanProjek            0.0   0.0   8.0  \n",
       "JumlahKeterlambatanSebulanTerakhir   0.0   0.0   6.0  \n",
       "JumlahKetidakhadiran                10.0  15.0  55.0  "
      ]
     },
     "execution_count": 7,
     "metadata": {},
     "output_type": "execute_result"
    }
   ],
   "source": [
    "df[nums].describe().T"
   ]
  },
  {
   "cell_type": "code",
   "execution_count": 8,
   "metadata": {},
   "outputs": [
    {
     "data": {
      "text/html": [
       "<div>\n",
       "<style scoped>\n",
       "    .dataframe tbody tr th:only-of-type {\n",
       "        vertical-align: middle;\n",
       "    }\n",
       "\n",
       "    .dataframe tbody tr th {\n",
       "        vertical-align: top;\n",
       "    }\n",
       "\n",
       "    .dataframe thead th {\n",
       "        text-align: right;\n",
       "    }\n",
       "</style>\n",
       "<table border=\"1\" class=\"dataframe\">\n",
       "  <thead>\n",
       "    <tr style=\"text-align: right;\">\n",
       "      <th></th>\n",
       "      <th>count</th>\n",
       "      <th>unique</th>\n",
       "      <th>top</th>\n",
       "      <th>freq</th>\n",
       "    </tr>\n",
       "  </thead>\n",
       "  <tbody>\n",
       "    <tr>\n",
       "      <th>StatusPernikahan</th>\n",
       "      <td>287</td>\n",
       "      <td>5</td>\n",
       "      <td>Belum_menikah</td>\n",
       "      <td>132</td>\n",
       "    </tr>\n",
       "    <tr>\n",
       "      <th>JenisKelamin</th>\n",
       "      <td>287</td>\n",
       "      <td>2</td>\n",
       "      <td>Wanita</td>\n",
       "      <td>167</td>\n",
       "    </tr>\n",
       "    <tr>\n",
       "      <th>StatusKepegawaian</th>\n",
       "      <td>287</td>\n",
       "      <td>3</td>\n",
       "      <td>FullTime</td>\n",
       "      <td>217</td>\n",
       "    </tr>\n",
       "    <tr>\n",
       "      <th>Pekerjaan</th>\n",
       "      <td>287</td>\n",
       "      <td>14</td>\n",
       "      <td>Software Engineer (Back End)</td>\n",
       "      <td>109</td>\n",
       "    </tr>\n",
       "    <tr>\n",
       "      <th>JenjangKarir</th>\n",
       "      <td>287</td>\n",
       "      <td>3</td>\n",
       "      <td>Freshgraduate_program</td>\n",
       "      <td>169</td>\n",
       "    </tr>\n",
       "    <tr>\n",
       "      <th>PerformancePegawai</th>\n",
       "      <td>287</td>\n",
       "      <td>5</td>\n",
       "      <td>Biasa</td>\n",
       "      <td>85</td>\n",
       "    </tr>\n",
       "    <tr>\n",
       "      <th>AsalDaerah</th>\n",
       "      <td>287</td>\n",
       "      <td>5</td>\n",
       "      <td>Jakarta Pusat</td>\n",
       "      <td>72</td>\n",
       "    </tr>\n",
       "    <tr>\n",
       "      <th>HiringPlatform</th>\n",
       "      <td>287</td>\n",
       "      <td>9</td>\n",
       "      <td>Indeed</td>\n",
       "      <td>85</td>\n",
       "    </tr>\n",
       "    <tr>\n",
       "      <th>SkorSurveyEngagement</th>\n",
       "      <td>287</td>\n",
       "      <td>5</td>\n",
       "      <td>3</td>\n",
       "      <td>132</td>\n",
       "    </tr>\n",
       "    <tr>\n",
       "      <th>SkorKepuasanPegawai</th>\n",
       "      <td>282.0</td>\n",
       "      <td>5.0</td>\n",
       "      <td>3.0</td>\n",
       "      <td>96.0</td>\n",
       "    </tr>\n",
       "    <tr>\n",
       "      <th>TingkatPendidikan</th>\n",
       "      <td>287</td>\n",
       "      <td>3</td>\n",
       "      <td>Sarjana</td>\n",
       "      <td>176</td>\n",
       "    </tr>\n",
       "    <tr>\n",
       "      <th>PernahBekerja</th>\n",
       "      <td>287</td>\n",
       "      <td>2</td>\n",
       "      <td>1</td>\n",
       "      <td>286</td>\n",
       "    </tr>\n",
       "    <tr>\n",
       "      <th>IkutProgramLOP</th>\n",
       "      <td>29.0</td>\n",
       "      <td>2.0</td>\n",
       "      <td>1.0</td>\n",
       "      <td>15.0</td>\n",
       "    </tr>\n",
       "    <tr>\n",
       "      <th>AlasanResign</th>\n",
       "      <td>221</td>\n",
       "      <td>11</td>\n",
       "      <td>masih_bekerja</td>\n",
       "      <td>132</td>\n",
       "    </tr>\n",
       "  </tbody>\n",
       "</table>\n",
       "</div>"
      ],
      "text/plain": [
       "                      count unique                           top  freq\n",
       "StatusPernikahan        287      5                 Belum_menikah   132\n",
       "JenisKelamin            287      2                        Wanita   167\n",
       "StatusKepegawaian       287      3                      FullTime   217\n",
       "Pekerjaan               287     14  Software Engineer (Back End)   109\n",
       "JenjangKarir            287      3         Freshgraduate_program   169\n",
       "PerformancePegawai      287      5                         Biasa    85\n",
       "AsalDaerah              287      5                 Jakarta Pusat    72\n",
       "HiringPlatform          287      9                        Indeed    85\n",
       "SkorSurveyEngagement    287      5                             3   132\n",
       "SkorKepuasanPegawai   282.0    5.0                           3.0  96.0\n",
       "TingkatPendidikan       287      3                       Sarjana   176\n",
       "PernahBekerja           287      2                             1   286\n",
       "IkutProgramLOP         29.0    2.0                           1.0  15.0\n",
       "AlasanResign            221     11                 masih_bekerja   132"
      ]
     },
     "execution_count": 8,
     "metadata": {},
     "output_type": "execute_result"
    }
   ],
   "source": [
    "df[cats].astype('object').describe().T"
   ]
  },
  {
   "cell_type": "code",
   "execution_count": 9,
   "metadata": {},
   "outputs": [
    {
     "data": {
      "text/html": [
       "<div>\n",
       "<style scoped>\n",
       "    .dataframe tbody tr th:only-of-type {\n",
       "        vertical-align: middle;\n",
       "    }\n",
       "\n",
       "    .dataframe tbody tr th {\n",
       "        vertical-align: top;\n",
       "    }\n",
       "\n",
       "    .dataframe thead th {\n",
       "        text-align: right;\n",
       "    }\n",
       "</style>\n",
       "<table border=\"1\" class=\"dataframe\">\n",
       "  <thead>\n",
       "    <tr style=\"text-align: right;\">\n",
       "      <th></th>\n",
       "      <th>count</th>\n",
       "      <th>unique</th>\n",
       "      <th>top</th>\n",
       "      <th>freq</th>\n",
       "    </tr>\n",
       "  </thead>\n",
       "  <tbody>\n",
       "    <tr>\n",
       "      <th>TanggalLahir</th>\n",
       "      <td>287</td>\n",
       "      <td>284</td>\n",
       "      <td>1987-06-14</td>\n",
       "      <td>2</td>\n",
       "    </tr>\n",
       "    <tr>\n",
       "      <th>TanggalHiring</th>\n",
       "      <td>287</td>\n",
       "      <td>97</td>\n",
       "      <td>2011-01-10</td>\n",
       "      <td>12</td>\n",
       "    </tr>\n",
       "    <tr>\n",
       "      <th>TanggalPenilaianKaryawan</th>\n",
       "      <td>287</td>\n",
       "      <td>127</td>\n",
       "      <td>2020-1-14</td>\n",
       "      <td>17</td>\n",
       "    </tr>\n",
       "    <tr>\n",
       "      <th>TanggalResign</th>\n",
       "      <td>287</td>\n",
       "      <td>53</td>\n",
       "      <td>-</td>\n",
       "      <td>198</td>\n",
       "    </tr>\n",
       "  </tbody>\n",
       "</table>\n",
       "</div>"
      ],
      "text/plain": [
       "                         count unique         top freq\n",
       "TanggalLahir               287    284  1987-06-14    2\n",
       "TanggalHiring              287     97  2011-01-10   12\n",
       "TanggalPenilaianKaryawan   287    127   2020-1-14   17\n",
       "TanggalResign              287     53           -  198"
      ]
     },
     "execution_count": 9,
     "metadata": {},
     "output_type": "execute_result"
    }
   ],
   "source": [
    "df[date_col].describe().T"
   ]
  },
  {
   "cell_type": "markdown",
   "metadata": {},
   "source": [
    "### Checking Features' Values"
   ]
  },
  {
   "cell_type": "code",
   "execution_count": 10,
   "metadata": {},
   "outputs": [
    {
     "name": "stdout",
     "output_type": "stream",
     "text": [
      "Unique values on non-date features:\n",
      "StatusPernikahan:\n",
      "\t['Belum_menikah' 'Menikah' 'Bercerai' 'Lainnya' '-']\n",
      "\n",
      "JenisKelamin:\n",
      "\t['Pria' 'Wanita']\n",
      "\n",
      "StatusKepegawaian:\n",
      "\t['Outsource' 'FullTime' 'Internship']\n",
      "\n",
      "Pekerjaan:\n",
      "\t['Software Engineer (Back End)' 'Data Analyst'\n",
      " 'Software Engineer (Front End)' 'Product Manager'\n",
      " 'Software Engineer (Android)' 'Scrum Master'\n",
      " 'Product Design (UX Researcher)' 'Product Design (UI & UX)'\n",
      " 'Digital Product Manager' 'Data Engineer' 'Software Engineer (iOS)'\n",
      " 'DevOps Engineer' 'Software Architect' 'Machine Learning Engineer']\n",
      "\n",
      "JenjangKarir:\n",
      "\t['Freshgraduate_program' 'Senior_level' 'Mid_level']\n",
      "\n",
      "PerformancePegawai:\n",
      "\t['Sangat_bagus' 'Sangat_kurang' 'Bagus' 'Biasa' 'Kurang']\n",
      "\n",
      "AsalDaerah:\n",
      "\t['Jakarta Timur' 'Jakarta Utara' 'Jakarta Pusat' 'Jakarta Selatan'\n",
      " 'Jakarta Barat']\n",
      "\n",
      "HiringPlatform:\n",
      "\t['Employee_Referral' 'Website' 'Indeed' 'LinkedIn' 'CareerBuilder'\n",
      " 'Diversity_Job_Fair' 'Google_Search' 'On-line_Web_application' 'Other']\n",
      "\n",
      "SkorSurveyEngagement:\n",
      "\t[4 3 2 1 5]\n",
      "\n",
      "SkorKepuasanPegawai:\n",
      "\t[ 4.  3.  5. nan  2.  1.]\n",
      "\n",
      "JumlahKeikutsertaanProjek:\n",
      "\t[ 0.  4.  6. nan  7.  3.  5.  1.  2.  8.]\n",
      "\n",
      "JumlahKeterlambatanSebulanTerakhir:\n",
      "\t[ 0.  4.  3.  5.  2.  6.  1. nan]\n",
      "\n",
      "JumlahKetidakhadiran:\n",
      "\t[ 9.  3. 11.  6. 10. 19.  4.  5.  2. 50. 12. nan 17. 15.  7. 13. 16. 14.\n",
      " 20. 18.  1.  8. 55.]\n",
      "\n",
      "TingkatPendidikan:\n",
      "\t['Magister' 'Sarjana' 'Doktor']\n",
      "\n",
      "PernahBekerja:\n",
      "\t['1' 'yes']\n",
      "\n",
      "IkutProgramLOP:\n",
      "\t[ 1.  0. nan]\n",
      "\n",
      "AlasanResign:\n",
      "\t['masih_bekerja' 'toxic_culture' 'jam_kerja' 'ganti_karir' 'tidak_bahagia'\n",
      " 'internal_conflict' 'Product Design (UI & UX)' 'kejelasan_karir'\n",
      " 'tidak_bisa_remote' 'apresiasi' nan 'leadership']\n",
      "\n"
     ]
    }
   ],
   "source": [
    "na_col = []\n",
    "print('Unique values on non-date features:')\n",
    "for col in df.drop(date_col + identifier, axis=1).columns:\n",
    "    if df[col].isna().any():\n",
    "        na_col.append(col)\n",
    "    print(f'{col}:')\n",
    "    print(f'\\t{df[col].unique()}\\n')"
   ]
  },
  {
   "cell_type": "code",
   "execution_count": 11,
   "metadata": {},
   "outputs": [
    {
     "name": "stdout",
     "output_type": "stream",
     "text": [
      "Columns with missing values:\n",
      "* SkorKepuasanPegawai\n",
      "* JumlahKeikutsertaanProjek\n",
      "* JumlahKeterlambatanSebulanTerakhir\n",
      "* JumlahKetidakhadiran\n",
      "* IkutProgramLOP\n",
      "* AlasanResign\n"
     ]
    }
   ],
   "source": [
    "print('Columns with missing values:')\n",
    "for col in na_col:\n",
    "    print(f'* {col}')"
   ]
  },
  {
   "cell_type": "markdown",
   "metadata": {},
   "source": [
    "Based on observation from descriptive analysis, here are the method in handling missing values on those columns:\n",
    "- **SkorKepuasanPegawai** will be filled with mode, indicating their employment satisfaction to be average\n",
    "- **JumlahKeikutsertaanProjek** will be filled with 0, indicating they haven't participate in any projects\n",
    "- **JumlahKeterlambatanSebulanTerakhir** will be filled with 0, indicating they haven't been tardy in the last month\n",
    "- **JumlahKetidakhadiran** will be filled with 0, indicating they haven't been absent\n",
    "- **IkutProgramLOP** will be filled with 0, indicating they don't participate in LOP program\n",
    "- **AlasanResign** will be filled with 'masih_bekerja', indicating they are still working in the company"
   ]
  },
  {
   "cell_type": "markdown",
   "metadata": {},
   "source": [
    "Aside from 6 columns having missing values, there are some columns with questionable values such as:\n",
    "- In **StatusPernikahan**, there is a value of '-' which might indicates single status, however it's unclear so it should be combined into 'Lainnya' or 'Others' value\n",
    "- In **PernahBekerja**, there are only value of 1 and 'yes' which means after changing 'yes' to 1, this column will have singular value and need to be dropped\n",
    "- In **AlasanResign**, there is a value 'Product Design (UI & UX)' which is not clear in the context of resigning reason, however let's leave this be for now"
   ]
  },
  {
   "cell_type": "markdown",
   "metadata": {},
   "source": [
    "## Data Preprocessing"
   ]
  },
  {
   "cell_type": "markdown",
   "metadata": {},
   "source": [
    "### Handling Missing Values\n",
    "\n",
    "Missing values will be handled according to previous analysis."
   ]
  },
  {
   "cell_type": "code",
   "execution_count": 12,
   "metadata": {},
   "outputs": [],
   "source": [
    "df['SkorKepuasanPegawai'].fillna(df.SkorKepuasanPegawai.mode()[0], inplace=True)\n",
    "fill_zero = ['JumlahKeikutsertaanProjek', 'JumlahKeterlambatanSebulanTerakhir', 'JumlahKetidakhadiran', 'IkutProgramLOP']\n",
    "for col in fill_zero:\n",
    "    df[col].fillna(0, inplace=True)\n",
    "df['AlasanResign'].fillna('masih_bekerja', inplace=True)"
   ]
  },
  {
   "cell_type": "markdown",
   "metadata": {},
   "source": [
    "### Cleaning Columns' Values and Datatypes\n",
    "\n",
    "This part includes handling **StatusPernikahan** and **PernahBekerja** according to previous analysis. On top of that, to standardize the format for **TanggalResign**, the value '-' will be changed into an arbitrary date of '2100-1-1' to indicate employees who are still working."
   ]
  },
  {
   "cell_type": "code",
   "execution_count": 13,
   "metadata": {},
   "outputs": [
    {
     "data": {
      "text/plain": [
       "1    287\n",
       "Name: PernahBekerja, dtype: int64"
      ]
     },
     "execution_count": 13,
     "metadata": {},
     "output_type": "execute_result"
    }
   ],
   "source": [
    "df['StatusPernikahan'].replace('-', 'Lainnya', inplace=True)\n",
    "df['PernahBekerja'].replace('yes', '1', inplace=True)\n",
    "df['TanggalResign'].replace('-', '2100-1-1', inplace=True)\n",
    "df.PernahBekerja.value_counts()"
   ]
  },
  {
   "cell_type": "markdown",
   "metadata": {},
   "source": [
    "As expected previously, **PernahBekerja** column does indeed have singular value, thus it will be dropped."
   ]
  },
  {
   "cell_type": "code",
   "execution_count": 14,
   "metadata": {},
   "outputs": [],
   "source": [
    "# Standardize ordinal columns to int64 datatypes\n",
    "float_col = df.select_dtypes('float')\n",
    "df[float_col.columns] = float_col.astype('int64')\n",
    "\n",
    "# Change datatype of date columns into datetime\n",
    "df[date_col] = df.apply(lambda x: pd.to_datetime(x[date_col], \n",
    "                format='%Y-%m-%d', errors='ignore'), axis=1)\n",
    "\n",
    "# Drop identifier columns and PernahBekerja\n",
    "df.drop(identifier, axis=1, inplace=True)\n",
    "df.drop('PernahBekerja', axis=1, inplace=True)"
   ]
  },
  {
   "cell_type": "code",
   "execution_count": 15,
   "metadata": {},
   "outputs": [
    {
     "name": "stdout",
     "output_type": "stream",
     "text": [
      "<class 'pandas.core.frame.DataFrame'>\n",
      "RangeIndex: 287 entries, 0 to 286\n",
      "Data columns (total 20 columns):\n",
      " #   Column                              Non-Null Count  Dtype         \n",
      "---  ------                              --------------  -----         \n",
      " 0   StatusPernikahan                    287 non-null    object        \n",
      " 1   JenisKelamin                        287 non-null    object        \n",
      " 2   StatusKepegawaian                   287 non-null    object        \n",
      " 3   Pekerjaan                           287 non-null    object        \n",
      " 4   JenjangKarir                        287 non-null    object        \n",
      " 5   PerformancePegawai                  287 non-null    object        \n",
      " 6   AsalDaerah                          287 non-null    object        \n",
      " 7   HiringPlatform                      287 non-null    object        \n",
      " 8   SkorSurveyEngagement                287 non-null    int64         \n",
      " 9   SkorKepuasanPegawai                 287 non-null    int64         \n",
      " 10  JumlahKeikutsertaanProjek           287 non-null    int64         \n",
      " 11  JumlahKeterlambatanSebulanTerakhir  287 non-null    int64         \n",
      " 12  JumlahKetidakhadiran                287 non-null    int64         \n",
      " 13  TingkatPendidikan                   287 non-null    object        \n",
      " 14  IkutProgramLOP                      287 non-null    int64         \n",
      " 15  AlasanResign                        287 non-null    object        \n",
      " 16  TanggalLahir                        287 non-null    datetime64[ns]\n",
      " 17  TanggalHiring                       287 non-null    datetime64[ns]\n",
      " 18  TanggalPenilaianKaryawan            287 non-null    datetime64[ns]\n",
      " 19  TanggalResign                       287 non-null    datetime64[ns]\n",
      "dtypes: datetime64[ns](4), int64(6), object(10)\n",
      "memory usage: 45.0+ KB\n"
     ]
    }
   ],
   "source": [
    "df.info()"
   ]
  },
  {
   "cell_type": "markdown",
   "metadata": {},
   "source": [
    "## Annual Report on Employee Number Changes"
   ]
  },
  {
   "cell_type": "markdown",
   "metadata": {},
   "source": [
    "After the data is cleaned, the next task will be to analyze the employment's health by checking on employee number changes. In this task, some feature extraction might be needed to visualize the data better. Employee number changes will be analyzed by calculating total employees every year to see the changes due to hiring and resigning of employees. The company's employment is healthy when they can get more employees hired compared to employees resigning."
   ]
  },
  {
   "cell_type": "code",
   "execution_count": 21,
   "metadata": {},
   "outputs": [
    {
     "data": {
      "text/html": [
       "<div>\n",
       "<style scoped>\n",
       "    .dataframe tbody tr th:only-of-type {\n",
       "        vertical-align: middle;\n",
       "    }\n",
       "\n",
       "    .dataframe tbody tr th {\n",
       "        vertical-align: top;\n",
       "    }\n",
       "\n",
       "    .dataframe thead th {\n",
       "        text-align: right;\n",
       "    }\n",
       "</style>\n",
       "<table border=\"1\" class=\"dataframe\">\n",
       "  <thead>\n",
       "    <tr style=\"text-align: right;\">\n",
       "      <th></th>\n",
       "      <th>TanggalHiring</th>\n",
       "      <th>TanggalResign</th>\n",
       "      <th>TahunHiring</th>\n",
       "      <th>TahunResign</th>\n",
       "    </tr>\n",
       "  </thead>\n",
       "  <tbody>\n",
       "    <tr>\n",
       "      <th>0</th>\n",
       "      <td>2011-01-10</td>\n",
       "      <td>2100-01-01</td>\n",
       "      <td>2011</td>\n",
       "      <td>2100</td>\n",
       "    </tr>\n",
       "    <tr>\n",
       "      <th>1</th>\n",
       "      <td>2014-01-06</td>\n",
       "      <td>2018-06-16</td>\n",
       "      <td>2014</td>\n",
       "      <td>2018</td>\n",
       "    </tr>\n",
       "    <tr>\n",
       "      <th>2</th>\n",
       "      <td>2011-01-10</td>\n",
       "      <td>2014-09-24</td>\n",
       "      <td>2011</td>\n",
       "      <td>2014</td>\n",
       "    </tr>\n",
       "    <tr>\n",
       "      <th>3</th>\n",
       "      <td>2014-02-17</td>\n",
       "      <td>2100-01-01</td>\n",
       "      <td>2014</td>\n",
       "      <td>2100</td>\n",
       "    </tr>\n",
       "    <tr>\n",
       "      <th>4</th>\n",
       "      <td>2013-11-11</td>\n",
       "      <td>2018-09-06</td>\n",
       "      <td>2013</td>\n",
       "      <td>2018</td>\n",
       "    </tr>\n",
       "  </tbody>\n",
       "</table>\n",
       "</div>"
      ],
      "text/plain": [
       "  TanggalHiring TanggalResign  TahunHiring  TahunResign\n",
       "0    2011-01-10    2100-01-01         2011         2100\n",
       "1    2014-01-06    2018-06-16         2014         2018\n",
       "2    2011-01-10    2014-09-24         2011         2014\n",
       "3    2014-02-17    2100-01-01         2014         2100\n",
       "4    2013-11-11    2018-09-06         2013         2018"
      ]
     },
     "execution_count": 21,
     "metadata": {},
     "output_type": "execute_result"
    }
   ],
   "source": [
    "emp_dates = df[['TanggalHiring', 'TanggalResign']].copy()\n",
    "\n",
    "emp_dates['TahunHiring'] = emp_dates['TanggalHiring'].dt.year\n",
    "emp_dates['TahunResign'] = emp_dates['TanggalResign'].dt.year\n",
    "\n",
    "emp_dates.head(5)"
   ]
  },
  {
   "cell_type": "code",
   "execution_count": 50,
   "metadata": {},
   "outputs": [],
   "source": [
    "# Count total employees hired per year\n",
    "hired = emp_dates.groupby('TahunHiring')[['TanggalHiring']].count().reset_index()\n",
    "hired.columns = ['Year', 'Hired']\n",
    "\n",
    "# Count total employees resigned per year\n",
    "resign = emp_dates.groupby('TahunResign')[['TanggalHiring']].count().reset_index()\n",
    "resign.columns = ['Year', 'Resigned']\n",
    "\n",
    "# Left join both dataframe\n",
    "emp_changes = pd.merge(hired, resign, how='outer', on='Year')"
   ]
  },
  {
   "cell_type": "markdown",
   "metadata": {},
   "source": [
    "Since year '2100' is the arbitrary number to indicate employees who are still working, that row will be dropped. The missing values for this dataframe will then be filled with 0 to indicate no change."
   ]
  },
  {
   "cell_type": "code",
   "execution_count": 51,
   "metadata": {},
   "outputs": [],
   "source": [
    "emp_changes.drop(emp_changes[emp_changes.Year == 2100].index, inplace=True)\n",
    "emp_changes.fillna(0, inplace=True)\n",
    "emp_changes = emp_changes.astype('int64')"
   ]
  },
  {
   "cell_type": "code",
   "execution_count": 76,
   "metadata": {},
   "outputs": [
    {
     "data": {
      "text/html": [
       "<div>\n",
       "<style scoped>\n",
       "    .dataframe tbody tr th:only-of-type {\n",
       "        vertical-align: middle;\n",
       "    }\n",
       "\n",
       "    .dataframe tbody tr th {\n",
       "        vertical-align: top;\n",
       "    }\n",
       "\n",
       "    .dataframe thead th {\n",
       "        text-align: right;\n",
       "    }\n",
       "</style>\n",
       "<table border=\"1\" class=\"dataframe\">\n",
       "  <thead>\n",
       "    <tr style=\"text-align: right;\">\n",
       "      <th></th>\n",
       "      <th>Year</th>\n",
       "      <th>Hired</th>\n",
       "      <th>Resigned</th>\n",
       "      <th>EmpGrowth</th>\n",
       "    </tr>\n",
       "  </thead>\n",
       "  <tbody>\n",
       "    <tr>\n",
       "      <th>0</th>\n",
       "      <td>2006</td>\n",
       "      <td>1</td>\n",
       "      <td>0</td>\n",
       "      <td>1</td>\n",
       "    </tr>\n",
       "    <tr>\n",
       "      <th>1</th>\n",
       "      <td>2007</td>\n",
       "      <td>2</td>\n",
       "      <td>0</td>\n",
       "      <td>2</td>\n",
       "    </tr>\n",
       "    <tr>\n",
       "      <th>2</th>\n",
       "      <td>2008</td>\n",
       "      <td>2</td>\n",
       "      <td>0</td>\n",
       "      <td>2</td>\n",
       "    </tr>\n",
       "  </tbody>\n",
       "</table>\n",
       "</div>"
      ],
      "text/plain": [
       "   Year  Hired  Resigned  EmpGrowth\n",
       "0  2006      1         0          1\n",
       "1  2007      2         0          2\n",
       "2  2008      2         0          2"
      ]
     },
     "execution_count": 76,
     "metadata": {},
     "output_type": "execute_result"
    }
   ],
   "source": [
    "emp_changes['EmpGrowth'] = emp_changes['Hired'] - emp_changes['Resigned']\n",
    "emp_changes.head(3)"
   ]
  },
  {
   "cell_type": "code",
   "execution_count": 74,
   "metadata": {},
   "outputs": [
    {
     "data": {
      "image/png": "[encoded data removed]",
      "text/plain": [
       "<Figure size 1200x800 with 1 Axes>"
      ]
     },
     "metadata": {},
     "output_type": "display_data"
    }
   ],
   "source": [
    "wfall.plot(emp_changes['Year'].astype('str'), \n",
    "           emp_changes['EmpGrowth'],\n",
    "           rotation_value=0,\n",
    "           net_label='Current',\n",
    "           Title='Waterfall Chart for Employee Number Changes',\n",
    "           y_lab='Employee Counts',\n",
    "           x_lab='Year',)\n",
    "plt.ylim(0, 270)\n",
    "plt.show()"
   ]
  },
  {
   "cell_type": "code",
   "execution_count": 88,
   "metadata": {},
   "outputs": [
    {
     "name": "stdout",
     "output_type": "stream",
     "text": [
      "Year 2018 turnover rate: 11.29%\n"
     ]
    }
   ],
   "source": [
    "# Employee count before 2018\n",
    "bef18 = emp_changes[emp_changes.Year < 2018]['EmpGrowth'].sum()\n",
    "\n",
    "# Employee count before 2019\n",
    "aft18 = emp_changes[emp_changes.Year < 2019]['EmpGrowth'].sum()\n",
    "\n",
    "# Count difference\n",
    "left18 = abs(aft18 - bef18)\n",
    "\n",
    "# Calulating biggest turn over at 2018\n",
    "turn_over_rate = left18 * 100 / ((aft18 + bef18) / 2)\n",
    "print(f'Year 2018 turnover rate: {turn_over_rate:.2f}%')"
   ]
  },
  {
   "cell_type": "markdown",
   "metadata": {},
   "source": [
    "Based on the graph above, the company actually has healthy employment status. There was a good upward trend on employment rate starting on year 2011 that slowed down on 2016. Employment rate going down after that until current time, however turnover rate seems to be tolerable at a glance. Worst turnover can be observed at year 2018 with 11.29% turn over rate that's higher than 10% (according to general rule of thumbs). Unfortunately, I only have data of year 2022 for [industry average turnover rate](https://www.linkedin.com/business/talent/blog/talent-strategy/industries-with-the-highest-turnover-rates#:~:text=compared%20with%20the%20overall%20average%20of%2010.6%25) to compare.\n",
    "\n",
    "The upward trend on employment rate might be attributed to the growing amount of data worldwide benefiting tech companies. This growing amount of data shows an upward trend from 2010 to 2020 according to [Nasdaq](https://www.nasdaq.com/articles/a-decade-of-change%3A-how-tech-evolved-in-the-2010s-and-whats-in-store-for-the-2020s#:~:text=AI%20and%20Big%20Data%20Took%20Off). The slowing down of employment rate on 2015 and 2016 might be attributed to the company's [resource maturity](https://www.upwork.com/resources/stages-of-business-growth#resource-maturity:~:text=After%20a%20successful%20take%2Doff%20where%20the%20company%20has%20achieved%20the%20rapid%20growth%20it%20aimed%20for%2C%20the%20main%20concern%20of%20businesses%20entering%20the%20resource%20maturity%20stage%20is%20proper%20management%20of%20the%20financial%20gains%20from%20the%20last%20phase).\n",
    "\n",
    "The downward trend on year 2017 might be attributed to change in world economy. This change opens up more job opportunities that leads to trend in switching jobs according to [CNN](https://money.cnn.com/2017/12/28/news/economy/jobs-2017/index.html#:~:text=Another%20sign%20of,plenty%20of%20options.)."
   ]
  },
  {
   "cell_type": "markdown",
   "metadata": {},
   "source": []
  }
 ],
 "metadata": {
  "kernelspec": {
   "display_name": "Python 3",
   "language": "python",
   "name": "python3"
  },
  "language_info": {
   "codemirror_mode": {
    "name": "ipython",
    "version": 3
   },
   "file_extension": ".py",
   "mimetype": "text/x-python",
   "name": "python",
   "nbconvert_exporter": "python",
   "pygments_lexer": "ipython3",
   "version": "3.9.13"
  },
  "orig_nbformat": 4
 },
 "nbformat": 4,
 "nbformat_minor": 2
}
